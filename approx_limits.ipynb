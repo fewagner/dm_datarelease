{
 "cells": [
  {
   "cell_type": "code",
   "execution_count": 23,
   "id": "c5cbde7c-6707-4569-87b9-ea5e47437cc0",
   "metadata": {
    "tags": []
   },
   "outputs": [],
   "source": [
    "import numpy as np\n",
    "import matplotlib.pyplot as plt\n",
    "import pandas as pd\n",
    "\n",
    "%config InlineBackend.figure_formats = ['svg']"
   ]
  },
  {
   "cell_type": "markdown",
   "id": "8e5a5f77-b3ca-4d2f-85f0-a593d20a6367",
   "metadata": {},
   "source": [
    "# extract the LH func data from the output files"
   ]
  },
  {
   "cell_type": "code",
   "execution_count": 2,
   "id": "413012bb-0fd4-4662-8be4-c6ef7e595cc8",
   "metadata": {
    "tags": []
   },
   "outputs": [],
   "source": [
    "path = 'data/limit/'\n",
    "path_app = 'Limit_{}_{}.{}'\n",
    "file_path = path + path_app"
   ]
  },
  {
   "cell_type": "code",
   "execution_count": 250,
   "id": "2bb5e3a9-9d2a-489d-b859-30abc7011d57",
   "metadata": {
    "tags": []
   },
   "outputs": [],
   "source": [
    "for which in ['a', 'b', 'c', 'ab', 'ac', 'bc', 'abc']:  # 'a', 'b', 'c', 'ab', 'ac', 'bc', 'abc'\n",
    "    for i in range(10):\n",
    "        \n",
    "        p = file_path.format(which, i, 'out')\n",
    "\n",
    "        with open(p, 'r') as file:\n",
    "            data = file.read().replace('\\n', '').split('lam')\n",
    "            data = [d.strip() for d in data if d.strip().startswith('b:')]\n",
    "            data_bf = [d for d in data if 'pars best fit:' in d]\n",
    "            data_excl = [d for d in data if 'cs val:' in d]\n",
    "\n",
    "            df = []\n",
    "\n",
    "            for d in data_bf:\n",
    "                buffer = []\n",
    "                lamb = float(d.split(',')[0].split(':')[1])\n",
    "                buffer.append(lamb)\n",
    "                fun = float(d.split(',')[1].split(':')[1])\n",
    "                buffer.append(fun)\n",
    "                bf_pars = d.split(',')[2].strip().split(':')[1].split('[')[1].split(']')[0].split(' ')\n",
    "                bf_pars = [float(v) for v in bf_pars if v != '']\n",
    "                for par in bf_pars:\n",
    "                    buffer.append(par)\n",
    "                df.append(buffer)\n",
    "\n",
    "            for d in data_excl:\n",
    "                buffer = []\n",
    "                lamb = float(d.split(',')[0].split(':')[1])\n",
    "                buffer.append(lamb)\n",
    "                fun = float(d.split(',')[1].split(':')[1])\n",
    "                buffer.append(fun)\n",
    "                cs = float(d.split(',')[2].split(':')[1])\n",
    "                buffer.append(cs)\n",
    "                bf_pars = d.split(',')[3].strip().split(':')[1].split('[')[1].split(']')[0].split(' ')\n",
    "                bf_pars = [float(v) for v in bf_pars if v != '']\n",
    "                for par in bf_pars:\n",
    "                    buffer.append(par)\n",
    "                df.append(buffer)\n",
    "                \n",
    "        columns = ['lamb', 'fun']\n",
    "        for j in range(len(buffer) - 2):\n",
    "            columns.append('p' + str(j))\n",
    "\n",
    "        df = np.array(df)\n",
    "        df = pd.DataFrame(df, columns=columns)\n",
    "        df.to_csv(path + path_app.format(which, i, 'csv'))"
   ]
  },
  {
   "cell_type": "code",
   "execution_count": null,
   "id": "3cca6e3e-f606-4cc4-8d68-29355716729a",
   "metadata": {},
   "outputs": [],
   "source": []
  },
  {
   "cell_type": "code",
   "execution_count": null,
   "id": "dd161d07-f50b-4fd6-b9f3-d2fd9dae9f92",
   "metadata": {},
   "outputs": [],
   "source": []
  }
 ],
 "metadata": {
  "kernelspec": {
   "display_name": "Python 3 (ipykernel)",
   "language": "python",
   "name": "python3"
  },
  "language_info": {
   "codemirror_mode": {
    "name": "ipython",
    "version": 3
   },
   "file_extension": ".py",
   "mimetype": "text/x-python",
   "name": "python",
   "nbconvert_exporter": "python",
   "pygments_lexer": "ipython3",
   "version": "3.10.10"
  }
 },
 "nbformat": 4,
 "nbformat_minor": 5
}
