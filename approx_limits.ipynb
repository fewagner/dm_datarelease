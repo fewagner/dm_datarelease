{
 "cells": [
  {
   "cell_type": "code",
   "execution_count": 1,
   "id": "c5cbde7c-6707-4569-87b9-ea5e47437cc0",
   "metadata": {},
   "outputs": [],
   "source": [
    "import numpy as np\n",
    "import matplotlib.pyplot as plt"
   ]
  },
  {
   "cell_type": "code",
   "execution_count": 2,
   "id": "413012bb-0fd4-4662-8be4-c6ef7e595cc8",
   "metadata": {},
   "outputs": [],
   "source": [
    "# extract the LH func data from the output files\n",
    "\n",
    "path = 'data/limit_lh_kinksV3/Limit_{}_{}.out'\n",
    "p = path.format('a', 0)"
   ]
  },
  {
   "cell_type": "code",
   "execution_count": null,
   "id": "2bb5e3a9-9d2a-489d-b859-30abc7011d57",
   "metadata": {},
   "outputs": [],
   "source": [
    "with open(dir + f, 'r') as file:"
   ]
  },
  {
   "cell_type": "code",
   "execution_count": null,
   "id": "c2f94545-d84c-4cb0-8c20-607e78170b0f",
   "metadata": {},
   "outputs": [],
   "source": [
    "# linear interpol between the data points"
   ]
  },
  {
   "cell_type": "code",
   "execution_count": null,
   "id": "c66c61b0-8424-4305-8fb6-cc3fc3629771",
   "metadata": {},
   "outputs": [],
   "source": [
    "# plot it"
   ]
  },
  {
   "cell_type": "code",
   "execution_count": null,
   "id": "c59bc541-0556-4962-afe9-75f667956879",
   "metadata": {},
   "outputs": [],
   "source": [
    "# maximize the LH functions, then minsearch for limit\n",
    "\n",
    "# do the same for the sum of the LH functions "
   ]
  },
  {
   "cell_type": "code",
   "execution_count": null,
   "id": "865a537a-d921-4b5d-829d-dbf3790e683e",
   "metadata": {},
   "outputs": [],
   "source": [
    "# we should do the same thing for the yellin limits:\n",
    "\n",
    "# track not only exclusion value but all values of poissonian LH \n",
    "\n",
    "# find maximum and exclusion limit for one and for all\n"
   ]
  },
  {
   "cell_type": "code",
   "execution_count": null,
   "id": "d86d8ede-f7f2-4de3-8989-93b550647ca5",
   "metadata": {},
   "outputs": [],
   "source": [
    "# does it make a difference if we combine the limits in this way compared to combined profile LH fit??"
   ]
  }
 ],
 "metadata": {
  "kernelspec": {
   "display_name": "Python 3",
   "language": "python",
   "name": "python3"
  },
  "language_info": {
   "codemirror_mode": {
    "name": "ipython",
    "version": 3
   },
   "file_extension": ".py",
   "mimetype": "text/x-python",
   "name": "python",
   "nbconvert_exporter": "python",
   "pygments_lexer": "ipython3",
   "version": "3.9.12"
  }
 },
 "nbformat": 4,
 "nbformat_minor": 5
}
